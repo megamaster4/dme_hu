{
 "cells": [
  {
   "cell_type": "code",
   "execution_count": 37,
   "metadata": {},
   "outputs": [],
   "source": [
    "import requests\n",
    "from xml.etree import ElementTree as ET"
   ]
  },
  {
   "cell_type": "code",
   "execution_count": null,
   "metadata": {},
   "outputs": [],
   "source": [
    "# Check metadata for different tables\n",
    "url = 'https://opendata.cbs.nl/ODataFeed/odata/03759ned/Perioden'\n",
    "rurl = 'https://opendata.cbs.nl/ODataFeed/odata/03759ned/RegioS'\n",
    "response = requests.get(url)\n",
    "# Parse XML\n",
    "def parse_response(url: str, keys: list[str]) -> dict:\n",
    "    \"\"\"Parse XML response from CBS Statline API.\"\"\"\n",
    "    schema = '{http://schemas.microsoft.com/ado/2007/08/dataservices}'\n",
    "    row = {}\n",
    "    lijst = []\n",
    "    response = requests.get(url)\n",
    "    response_xml = ET.fromstring(response.content)\n",
    "    entries = response_xml.findall('.//{http://www.w3.org/2005/Atom}entry')\n",
    "    for entry in entries:\n",
    "        for key in keys:\n",
    "            param = entry.find(f'.//{schema}{key}')\n",
    "            row[key] = param.text\n",
    "        \n",
    "        lijst.append(row.copy())\n",
    "        print(lijst)\n",
    "    return lijst\n",
    "\n",
    "test = parse_response(rurl, ['Key', 'Title', 'Description','CategoryGroupID'])"
   ]
  },
  {
   "cell_type": "code",
   "execution_count": null,
   "metadata": {},
   "outputs": [],
   "source": []
  }
 ],
 "metadata": {
  "kernelspec": {
   "display_name": ".venv",
   "language": "python",
   "name": "python3"
  },
  "language_info": {
   "codemirror_mode": {
    "name": "ipython",
    "version": 3
   },
   "file_extension": ".py",
   "mimetype": "text/x-python",
   "name": "python",
   "nbconvert_exporter": "python",
   "pygments_lexer": "ipython3",
   "version": "3.11.2"
  },
  "orig_nbformat": 4
 },
 "nbformat": 4,
 "nbformat_minor": 2
}
