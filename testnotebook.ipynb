{
 "cells": [
  {
   "cell_type": "code",
   "execution_count": 2,
   "metadata": {},
   "outputs": [],
   "source": [
    "import polars as pl\n",
    "from src.config import Settings\n",
    "from src.db_tools import DBEngine\n",
    "\n",
    "# Create connection\n",
    "db_engine = DBEngine(**Settings().model_dump())"
   ]
  },
  {
   "cell_type": "code",
   "execution_count": 4,
   "metadata": {},
   "outputs": [],
   "source": [
    "with db_engine.session.connection() as con:\n",
    "    df = pl.read_database(\n",
    "        query=\"SELECT * FROM regios\",\n",
    "        connection=con\n",
    "    )"
   ]
  },
  {
   "cell_type": "code",
   "execution_count": 7,
   "metadata": {},
   "outputs": [
    {
     "data": {
      "text/html": [
       "<div><style>\n",
       ".dataframe > thead > tr > th,\n",
       ".dataframe > tbody > tr > td {\n",
       "  text-align: right;\n",
       "  white-space: pre-wrap;\n",
       "}\n",
       "</style>\n",
       "<small>shape: (892, 4)</small><table border=\"1\" class=\"dataframe\"><thead><tr><th>regio_key</th><th>regio</th><th>description</th><th>categorygroupid</th></tr><tr><td>str</td><td>str</td><td>str</td><td>bool</td></tr></thead><tbody><tr><td>&quot;PV21  &quot;</td><td>&quot;Fryslân (PV)&quot;</td><td>&quot;PV = Provincie…</td><td>null</td></tr><tr><td>&quot;GM0305&quot;</td><td>&quot;Abcoude&quot;</td><td>&quot;Opgeheven per …</td><td>null</td></tr><tr><td>&quot;GM0059&quot;</td><td>&quot;Achtkarspelen&quot;</td><td>&quot;Grenswijziging…</td><td>null</td></tr><tr><td>&quot;GM0531&quot;</td><td>&quot;Hendrik-Ido-Am…</td><td>&quot;Grenswijziging…</td><td>null</td></tr><tr><td>&quot;LD01  &quot;</td><td>&quot;Noord-Nederlan…</td><td>&quot;LD = Landsdeel…</td><td>null</td></tr><tr><td>&quot;LD04  &quot;</td><td>&quot;Zuid-Nederland…</td><td>&quot;LD = Landsdeel…</td><td>null</td></tr><tr><td>&quot;GM0248&quot;</td><td>&quot;Hengelo (Gld.)…</td><td>&quot;Opgeheven per …</td><td>null</td></tr><tr><td>&quot;GM0881&quot;</td><td>&quot;Onderbanken&quot;</td><td>&quot;Opgeheven per …</td><td>null</td></tr><tr><td>&quot;PV23  &quot;</td><td>&quot;Overijssel (PV…</td><td>&quot;PV = Provincie…</td><td>null</td></tr><tr><td>&quot;PV24  &quot;</td><td>&quot;Flevoland (PV)…</td><td>&quot;PV = Provincie…</td><td>null</td></tr><tr><td>&quot;PV29  &quot;</td><td>&quot;Zeeland (PV)&quot;</td><td>&quot;PV = Provincie…</td><td>null</td></tr><tr><td>&quot;PV30  &quot;</td><td>&quot;Noord-Brabant …</td><td>&quot;PV = Provincie…</td><td>null</td></tr><tr><td>&hellip;</td><td>&hellip;</td><td>&hellip;</td><td>&hellip;</td></tr><tr><td>&quot;GM0298&quot;</td><td>&quot;Zelhem&quot;</td><td>&quot;Opgeheven per …</td><td>null</td></tr><tr><td>&quot;GM0299&quot;</td><td>&quot;Zevenaar&quot;</td><td>&quot;Gemeentelijke …</td><td>null</td></tr><tr><td>&quot;GM0878&quot;</td><td>&quot;Zevenbergen&quot;</td><td>&quot;Naamswijziging…</td><td>null</td></tr><tr><td>&quot;GM0636&quot;</td><td>&quot;Zevenhuizen&quot;</td><td>&quot;Opgeheven per …</td><td>null</td></tr><tr><td>&quot;GM1666&quot;</td><td>&quot;Zevenhuizen-Mo…</td><td>&quot;Opgeheven per …</td><td>null</td></tr><tr><td>&quot;GM0732&quot;</td><td>&quot;Zierikzee&quot;</td><td>&quot;Opgeheven per …</td><td>null</td></tr><tr><td>&quot;GM0476&quot;</td><td>&quot;Zijpe&quot;</td><td>&quot;Opgeheven per …</td><td>null</td></tr><tr><td>&quot;GM0637&quot;</td><td>&quot;Zoetermeer&quot;</td><td>&quot;Grenswijziging…</td><td>null</td></tr><tr><td>&quot;GM0638&quot;</td><td>&quot;Zoeterwoude&quot;</td><td>&quot;Grenswijziging…</td><td>null</td></tr><tr><td>&quot;GM0056&quot;</td><td>&quot;Zuidhorn&quot;</td><td>&quot;Opgeheven per …</td><td>null</td></tr><tr><td>&quot;GM0136&quot;</td><td>&quot;Zuidlaren&quot;</td><td>&quot;Naamswijziging…</td><td>null</td></tr><tr><td>&quot;GM1892&quot;</td><td>&quot;Zuidplas&quot;</td><td>&quot;Grenswijziging…</td><td>null</td></tr></tbody></table></div>"
      ],
      "text/plain": [
       "shape: (892, 4)\n",
       "┌───────────┬─────────────────────┬───────────────────────────────────┬─────────────────┐\n",
       "│ regio_key ┆ regio               ┆ description                       ┆ categorygroupid │\n",
       "│ ---       ┆ ---                 ┆ ---                               ┆ ---             │\n",
       "│ str       ┆ str                 ┆ str                               ┆ bool            │\n",
       "╞═══════════╪═════════════════════╪═══════════════════════════════════╪═════════════════╡\n",
       "│ PV21      ┆ Fryslân (PV)        ┆ PV = Provincie\n",
       "                    ┆ null            │\n",
       "│           ┆                     ┆ \n",
       "                                  ┆                 │\n",
       "│           ┆                     ┆ Bestuurlijke o…                   ┆                 │\n",
       "│ GM0305    ┆ Abcoude             ┆ Opgeheven per 01-01-2011, overge… ┆ null            │\n",
       "│ GM0059    ┆ Achtkarspelen       ┆ Grenswijziging per 01-01-1993, o… ┆ null            │\n",
       "│ GM0531    ┆ Hendrik-Ido-Ambacht ┆ Grenswijziging per 01-01-2004, o… ┆ null            │\n",
       "│ …         ┆ …                   ┆ …                                 ┆ …               │\n",
       "│ GM0638    ┆ Zoeterwoude         ┆ Grenswijziging per 01-01-2011, o… ┆ null            │\n",
       "│ GM0056    ┆ Zuidhorn            ┆ Opgeheven per 01-01-2019, overge… ┆ null            │\n",
       "│ GM0136    ┆ Zuidlaren           ┆ Naamswijziging per 01-12-1999,\n",
       "    ┆ null            │\n",
       "│           ┆                     ┆ …                                 ┆                 │\n",
       "│ GM1892    ┆ Zuidplas            ┆ Grenswijziging per 01-01-2013, o… ┆ null            │\n",
       "└───────────┴─────────────────────┴───────────────────────────────────┴─────────────────┘"
      ]
     },
     "execution_count": 7,
     "metadata": {},
     "output_type": "execute_result"
    }
   ],
   "source": [
    "df"
   ]
  },
  {
   "cell_type": "code",
   "execution_count": null,
   "metadata": {},
   "outputs": [],
   "source": []
  }
 ],
 "metadata": {
  "kernelspec": {
   "display_name": ".venv",
   "language": "python",
   "name": "python3"
  },
  "language_info": {
   "codemirror_mode": {
    "name": "ipython",
    "version": 3
   },
   "file_extension": ".py",
   "mimetype": "text/x-python",
   "name": "python",
   "nbconvert_exporter": "python",
   "pygments_lexer": "ipython3",
   "version": "3.11.2"
  },
  "orig_nbformat": 4
 },
 "nbformat": 4,
 "nbformat_minor": 2
}
