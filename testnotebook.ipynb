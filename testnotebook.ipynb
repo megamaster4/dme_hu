{
 "cells": [
  {
   "cell_type": "code",
   "execution_count": 13,
   "metadata": {},
   "outputs": [],
   "source": [
    "import polars as pl\n",
    "from pathlib import Path\n",
    "from tqdm import tqdm\n",
    "from src.config import Settings\n",
    "from src.db_tools import DBEngine\n",
    "\n",
    "# Create connection\n",
    "# db_engine = DBEngine(**Settings().model_dump())"
   ]
  },
  {
   "cell_type": "code",
   "execution_count": 18,
   "metadata": {},
   "outputs": [
    {
     "name": "stderr",
     "output_type": "stream",
     "text": [
      "3it [00:00, 160.96it/s]\n"
     ]
    },
    {
     "ename": "ShapeError",
     "evalue": "unable to vstack, dtypes for column \"bevolking_1_januari\" don't match: `str` and `null`",
     "output_type": "error",
     "traceback": [
      "\u001b[0;31m---------------------------------------------------------------------------\u001b[0m",
      "\u001b[0;31mShapeError\u001b[0m                                Traceback (most recent call last)",
      "\u001b[1;32m/home/adminmp/repos/DME/dme_hu/testnotebook.ipynb Cell 2\u001b[0m line \u001b[0;36m6\n\u001b[1;32m      <a href='vscode-notebook-cell://wsl%2Bubuntu/home/adminmp/repos/DME/dme_hu/testnotebook.ipynb#W2sdnNjb2RlLXJlbW90ZQ%3D%3D?line=3'>4</a>\u001b[0m     df \u001b[39m=\u001b[39m pl\u001b[39m.\u001b[39mread_parquet(file)\n\u001b[1;32m      <a href='vscode-notebook-cell://wsl%2Bubuntu/home/adminmp/repos/DME/dme_hu/testnotebook.ipynb#W2sdnNjb2RlLXJlbW90ZQ%3D%3D?line=4'>5</a>\u001b[0m \u001b[39melse\u001b[39;00m:\n\u001b[0;32m----> <a href='vscode-notebook-cell://wsl%2Bubuntu/home/adminmp/repos/DME/dme_hu/testnotebook.ipynb#W2sdnNjb2RlLXJlbW90ZQ%3D%3D?line=5'>6</a>\u001b[0m     df\u001b[39m.\u001b[39;49mextend(pl\u001b[39m.\u001b[39;49mread_parquet(file))\n",
      "File \u001b[0;32m~/repos/DME/dme_hu/.venv/lib/python3.11/site-packages/polars/dataframe/frame.py:6276\u001b[0m, in \u001b[0;36mDataFrame.extend\u001b[0;34m(self, other)\u001b[0m\n\u001b[1;32m   6222\u001b[0m \u001b[39m\u001b[39m\u001b[39m\"\"\"\u001b[39;00m\n\u001b[1;32m   6223\u001b[0m \u001b[39mExtend the memory backed by this `DataFrame` with the values from `other`.\u001b[39;00m\n\u001b[1;32m   6224\u001b[0m \n\u001b[0;32m   (...)\u001b[0m\n\u001b[1;32m   6273\u001b[0m \n\u001b[1;32m   6274\u001b[0m \u001b[39m\"\"\"\u001b[39;00m\n\u001b[1;32m   6275\u001b[0m \u001b[39mtry\u001b[39;00m:\n\u001b[0;32m-> 6276\u001b[0m     \u001b[39mself\u001b[39;49m\u001b[39m.\u001b[39;49m_df\u001b[39m.\u001b[39;49mextend(other\u001b[39m.\u001b[39;49m_df)\n\u001b[1;32m   6277\u001b[0m \u001b[39mexcept\u001b[39;00m \u001b[39mRuntimeError\u001b[39;00m \u001b[39mas\u001b[39;00m exc:\n\u001b[1;32m   6278\u001b[0m     \u001b[39mif\u001b[39;00m \u001b[39mstr\u001b[39m(exc) \u001b[39m==\u001b[39m \u001b[39m\"\u001b[39m\u001b[39mAlready mutably borrowed\u001b[39m\u001b[39m\"\u001b[39m:\n",
      "\u001b[0;31mShapeError\u001b[0m: unable to vstack, dtypes for column \"bevolking_1_januari\" don't match: `str` and `null`"
     ]
    }
   ],
   "source": [
    "df = pl.DataFrame([])\n",
    "for file in tqdm(Path(\"data/parquet/bevolking\").iterdir()):\n",
    "    if df.is_empty():\n",
    "        df = pl.read_parquet(file)\n",
    "    else:\n",
    "        df.extend(pl.read_parquet(file))\n",
    "\n"
   ]
  },
  {
   "cell_type": "code",
   "execution_count": 20,
   "metadata": {},
   "outputs": [
    {
     "data": {
      "text/plain": [
       "['id',\n",
       " 'geslacht_key',\n",
       " 'leeftijd_key',\n",
       " 'burgst_key',\n",
       " 'regio_key',\n",
       " 'datum_key',\n",
       " 'bevolking_1_januari',\n",
       " 'gemiddelde_bevolking']"
      ]
     },
     "execution_count": 20,
     "metadata": {},
     "output_type": "execute_result"
    }
   ],
   "source": [
    "df.columns"
   ]
  },
  {
   "cell_type": "code",
   "execution_count": null,
   "metadata": {},
   "outputs": [],
   "source": []
  }
 ],
 "metadata": {
  "kernelspec": {
   "display_name": ".venv",
   "language": "python",
   "name": "python3"
  },
  "language_info": {
   "codemirror_mode": {
    "name": "ipython",
    "version": 3
   },
   "file_extension": ".py",
   "mimetype": "text/x-python",
   "name": "python",
   "nbconvert_exporter": "python",
   "pygments_lexer": "ipython3",
   "version": "3.11.5"
  },
  "orig_nbformat": 4
 },
 "nbformat": 4,
 "nbformat_minor": 2
}
