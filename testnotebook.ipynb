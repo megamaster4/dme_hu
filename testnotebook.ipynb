{
 "cells": [
  {
   "cell_type": "code",
   "execution_count": 1,
   "metadata": {},
   "outputs": [],
   "source": [
    "import polars as pl\n",
    "from pathlib import Path\n",
    "from backend.config import Settings, DFType\n",
    "from backend.db_tools import DBEngine\n",
    "from backend.crud import select_table_from_db, fetch_data\n",
    "from backend import models\n",
    "\n",
    "from enum import Enum\n",
    "from sqlalchemy import select\n",
    "\n",
    "\n",
    "# Create connection\n",
    "db_engine = DBEngine(**Settings().model_dump())\n"
   ]
  },
  {
   "cell_type": "markdown",
   "metadata": {},
   "source": [
    "## Get all totals per region, per year"
   ]
  },
  {
   "cell_type": "code",
   "execution_count": 2,
   "metadata": {},
   "outputs": [
    {
     "name": "stdout",
     "output_type": "stream",
     "text": [
      "SELECT regios.regio, regios.regio_key, perioden.jaar, bevolking.bevolking_1_januari, geslacht.geslacht, categorygroup.catgroup, burgstaat.burgerlijkestaat \n",
      "FROM bevolking JOIN geslacht ON bevolking.geslacht_key = geslacht.geslacht_key JOIN perioden ON bevolking.datum_key = perioden.datum_key JOIN regios ON bevolking.regio_key = regios.regio_key JOIN leeftijd ON bevolking.leeftijd_key = leeftijd.leeftijd_key JOIN categorygroup ON leeftijd.categorygroupid = categorygroup.catgroup_key JOIN burgstaat ON bevolking.burgst_key = burgstaat.burgst_key JOIN bodemgebruik ON bevolking.regio_key = bodemgebruik.regio_key AND bevolking.datum_key = bodemgebruik.datum_key \n",
      "WHERE categorygroup.catgroup = 'Totaal' AND burgstaat.burgerlijkestaat = 'Totaal burgerlijke staat' AND geslacht.geslacht = 'Totaal mannen en vrouwen'\n"
     ]
    }
   ],
   "source": [
    "stmt = (\n",
    "    select(models.Regios.regio, models.Regios.regio_key, models.Perioden.jaar, models.Bevolking.bevolking_1_januari, models.Geslacht.geslacht, models.CategoryGroup.catgroup, models.Burgstaat.burgerlijkestaat)\n",
    "    .join(models.Geslacht, models.Bevolking.geslacht_key == models.Geslacht.geslacht_key)\n",
    "    .join(models.Perioden, models.Bevolking.datum_key == models.Perioden.datum_key)\n",
    "    .join(models.Regios, models.Bevolking.regio_key == models.Regios.regio_key)\n",
    "    .join(models.Leeftijd, models.Bevolking.leeftijd_key == models.Leeftijd.leeftijd_key)\n",
    "    .join(models.CategoryGroup, models.Leeftijd.categorygroupid == models.CategoryGroup.catgroup_key)\n",
    "    .join(models.Burgstaat, models.Bevolking.burgst_key == models.Burgstaat.burgst_key)\n",
    "    .join(models.Bodemgebruik, (models.Bevolking.regio_key == models.Bodemgebruik.regio_key) & (models.Bevolking.datum_key == models.Bodemgebruik.datum_key))\n",
    "    # .where(models.Regios.regio == \"Nederland\")\n",
    "    .where(models.CategoryGroup.catgroup == \"Totaal\")\n",
    "    .where(models.Burgstaat.burgerlijkestaat == \"Totaal burgerlijke staat\")\n",
    "    .where(models.Geslacht.geslacht == \"Totaal mannen en vrouwen\")\n",
    ")\n",
    "df = fetch_data(stmt=stmt, db_engine=db_engine, package=DFType.POLARS)"
   ]
  },
  {
   "cell_type": "markdown",
   "metadata": {},
   "source": [
    "### Create a top 5 list of gemeentes with the highest population"
   ]
  },
  {
   "cell_type": "code",
   "execution_count": 3,
   "metadata": {},
   "outputs": [],
   "source": [
    "devdf = df.clone()\n",
    "\n",
    "devdf = devdf.filter(pl.col('jaar') == pl.col('jaar').max())\n",
    "devdf = devdf.filter(devdf['regio_key'].str.starts_with('GM'))"
   ]
  },
  {
   "cell_type": "code",
   "execution_count": 4,
   "metadata": {},
   "outputs": [
    {
     "data": {
      "text/html": [
       "<div><style>\n",
       ".dataframe > thead > tr > th,\n",
       ".dataframe > tbody > tr > td {\n",
       "  text-align: right;\n",
       "  white-space: pre-wrap;\n",
       "}\n",
       "</style>\n",
       "<small>shape: (5, 7)</small><table border=\"1\" class=\"dataframe\"><thead><tr><th>regio</th><th>regio_key</th><th>jaar</th><th>bevolking_1_januari</th><th>geslacht</th><th>catgroup</th><th>burgerlijkestaat</th></tr><tr><td>str</td><td>str</td><td>i64</td><td>i64</td><td>str</td><td>str</td><td>str</td></tr></thead><tbody><tr><td>&quot;Amsterdam&quot;</td><td>&quot;GM0363&quot;</td><td>2017</td><td>844947</td><td>&quot;Totaal mannen …</td><td>&quot;Totaal&quot;</td><td>&quot;Totaal burgerl…</td></tr><tr><td>&quot;Rotterdam&quot;</td><td>&quot;GM0599&quot;</td><td>2017</td><td>634660</td><td>&quot;Totaal mannen …</td><td>&quot;Totaal&quot;</td><td>&quot;Totaal burgerl…</td></tr><tr><td>&quot;&#x27;s-Gravenhage …</td><td>&quot;GM0518&quot;</td><td>2017</td><td>524882</td><td>&quot;Totaal mannen …</td><td>&quot;Totaal&quot;</td><td>&quot;Totaal burgerl…</td></tr><tr><td>&quot;Utrecht (gemee…</td><td>&quot;GM0344&quot;</td><td>2017</td><td>343038</td><td>&quot;Totaal mannen …</td><td>&quot;Totaal&quot;</td><td>&quot;Totaal burgerl…</td></tr><tr><td>&quot;Eindhoven&quot;</td><td>&quot;GM0772&quot;</td><td>2017</td><td>226868</td><td>&quot;Totaal mannen …</td><td>&quot;Totaal&quot;</td><td>&quot;Totaal burgerl…</td></tr></tbody></table></div>"
      ],
      "text/plain": [
       "shape: (5, 7)\n",
       "┌─────────────────┬───────────┬──────┬────────────────┬────────────────┬──────────┬────────────────┐\n",
       "│ regio           ┆ regio_key ┆ jaar ┆ bevolking_1_ja ┆ geslacht       ┆ catgroup ┆ burgerlijkesta │\n",
       "│ ---             ┆ ---       ┆ ---  ┆ nuari          ┆ ---            ┆ ---      ┆ at             │\n",
       "│ str             ┆ str       ┆ i64  ┆ ---            ┆ str            ┆ str      ┆ ---            │\n",
       "│                 ┆           ┆      ┆ i64            ┆                ┆          ┆ str            │\n",
       "╞═════════════════╪═══════════╪══════╪════════════════╪════════════════╪══════════╪════════════════╡\n",
       "│ Amsterdam       ┆ GM0363    ┆ 2017 ┆ 844947         ┆ Totaal mannen  ┆ Totaal   ┆ Totaal         │\n",
       "│                 ┆           ┆      ┆                ┆ en vrouwen     ┆          ┆ burgerlijke    │\n",
       "│                 ┆           ┆      ┆                ┆                ┆          ┆ staat          │\n",
       "│ Rotterdam       ┆ GM0599    ┆ 2017 ┆ 634660         ┆ Totaal mannen  ┆ Totaal   ┆ Totaal         │\n",
       "│                 ┆           ┆      ┆                ┆ en vrouwen     ┆          ┆ burgerlijke    │\n",
       "│                 ┆           ┆      ┆                ┆                ┆          ┆ staat          │\n",
       "│ 's-Gravenhage   ┆ GM0518    ┆ 2017 ┆ 524882         ┆ Totaal mannen  ┆ Totaal   ┆ Totaal         │\n",
       "│ (gemeente)      ┆           ┆      ┆                ┆ en vrouwen     ┆          ┆ burgerlijke    │\n",
       "│                 ┆           ┆      ┆                ┆                ┆          ┆ staat          │\n",
       "│ Utrecht         ┆ GM0344    ┆ 2017 ┆ 343038         ┆ Totaal mannen  ┆ Totaal   ┆ Totaal         │\n",
       "│ (gemeente)      ┆           ┆      ┆                ┆ en vrouwen     ┆          ┆ burgerlijke    │\n",
       "│                 ┆           ┆      ┆                ┆                ┆          ┆ staat          │\n",
       "│ Eindhoven       ┆ GM0772    ┆ 2017 ┆ 226868         ┆ Totaal mannen  ┆ Totaal   ┆ Totaal         │\n",
       "│                 ┆           ┆      ┆                ┆ en vrouwen     ┆          ┆ burgerlijke    │\n",
       "│                 ┆           ┆      ┆                ┆                ┆          ┆ staat          │\n",
       "└─────────────────┴───────────┴──────┴────────────────┴────────────────┴──────────┴────────────────┘"
      ]
     },
     "execution_count": 4,
     "metadata": {},
     "output_type": "execute_result"
    }
   ],
   "source": [
    "sorted_df = devdf.sort('bevolking_1_januari', descending=True)\n",
    "top_5_df = sorted_df.head(5)\n",
    "top_5_df"
   ]
  },
  {
   "cell_type": "markdown",
   "metadata": {},
   "source": [
    "### Get top 5 gemeentes with the highest growth since the previous measuring moment\n",
    "\n",
    "Some gemeentes have been discontinued. So, we will only look at the gemeentes that are still active in the most recent year."
   ]
  },
  {
   "cell_type": "code",
   "execution_count": 5,
   "metadata": {},
   "outputs": [],
   "source": [
    "devdf = df.clone()\n",
    "devdf = devdf.filter(devdf['regio_key'].str.starts_with('GM'))\n",
    "active_gemeentes = devdf.filter(pl.col('jaar') == pl.col('jaar').max())\n",
    "active_gemeentes = active_gemeentes.drop_nulls('bevolking_1_januari')[['regio', 'regio_key']]\n",
    "devdf = devdf.filter(devdf['regio'].is_in(active_gemeentes['regio']))"
   ]
  },
  {
   "cell_type": "markdown",
   "metadata": {},
   "source": [
    "Now we calculate the growth per gemeente."
   ]
  },
  {
   "cell_type": "code",
   "execution_count": 6,
   "metadata": {},
   "outputs": [],
   "source": [
    "devdf = devdf.with_columns((pl.col('bevolking_1_januari').shift(1)).over('regio').alias('previous_moment'))\n",
    "devdf = devdf.with_columns(((pl.col('bevolking_1_januari') - pl.col('previous_moment'))/pl.col('previous_moment')*100).alias('percentage_growth'))\n",
    "devdf = devdf.with_columns((pl.col('bevolking_1_januari') - pl.col('previous_moment')).alias('absolute_growth'))"
   ]
  },
  {
   "cell_type": "markdown",
   "metadata": {},
   "source": [
    "Calculate the top 5 for both the highest relative growth and the highest absolute growth."
   ]
  },
  {
   "cell_type": "code",
   "execution_count": 7,
   "metadata": {},
   "outputs": [],
   "source": [
    "devdf_2023 = devdf.filter(pl.col('jaar') == pl.col('jaar').max())\n",
    "sorted_df = devdf_2023.sort('percentage_growth', descending=True)\n",
    "top_5_relative_growth = sorted_df.head(5)\n",
    "sorted_df = devdf_2023.sort('absolute_growth', descending=True)\n",
    "top_5_absolute_growth = sorted_df.head(5)"
   ]
  },
  {
   "cell_type": "code",
   "execution_count": 8,
   "metadata": {},
   "outputs": [
    {
     "data": {
      "text/html": [
       "<div><style>\n",
       ".dataframe > thead > tr > th,\n",
       ".dataframe > tbody > tr > td {\n",
       "  text-align: right;\n",
       "  white-space: pre-wrap;\n",
       "}\n",
       "</style>\n",
       "<small>shape: (5, 10)</small><table border=\"1\" class=\"dataframe\"><thead><tr><th>regio</th><th>regio_key</th><th>jaar</th><th>bevolking_1_januari</th><th>geslacht</th><th>catgroup</th><th>burgerlijkestaat</th><th>previous_moment</th><th>percentage_growth</th><th>absolute_growth</th></tr><tr><td>str</td><td>str</td><td>i64</td><td>i64</td><td>str</td><td>str</td><td>str</td><td>i64</td><td>f64</td><td>i64</td></tr></thead><tbody><tr><td>&quot;Edam-Volendam&quot;</td><td>&quot;GM0385&quot;</td><td>2017</td><td>35800</td><td>&quot;Totaal mannen …</td><td>&quot;Totaal&quot;</td><td>&quot;Totaal burgerl…</td><td>29087</td><td>23.079039</td><td>6713</td></tr><tr><td>&quot;Blaricum&quot;</td><td>&quot;GM0376&quot;</td><td>2017</td><td>10201</td><td>&quot;Totaal mannen …</td><td>&quot;Totaal&quot;</td><td>&quot;Totaal burgerl…</td><td>9312</td><td>9.546821</td><td>889</td></tr><tr><td>&quot;Noordenveld&quot;</td><td>&quot;GM1699&quot;</td><td>2017</td><td>32981</td><td>&quot;Totaal mannen …</td><td>&quot;Totaal&quot;</td><td>&quot;Totaal burgerl…</td><td>31137</td><td>5.922215</td><td>1844</td></tr><tr><td>&quot;Rijswijk (ZH.)…</td><td>&quot;GM0603&quot;</td><td>2017</td><td>51027</td><td>&quot;Totaal mannen …</td><td>&quot;Totaal&quot;</td><td>&quot;Totaal burgerl…</td><td>48216</td><td>5.830015</td><td>2811</td></tr><tr><td>&quot;Oostzaan&quot;</td><td>&quot;GM0431&quot;</td><td>2017</td><td>9652</td><td>&quot;Totaal mannen …</td><td>&quot;Totaal&quot;</td><td>&quot;Totaal burgerl…</td><td>9187</td><td>5.0615</td><td>465</td></tr></tbody></table></div>"
      ],
      "text/plain": [
       "shape: (5, 10)\n",
       "┌────────────┬───────────┬──────┬────────────┬───┬────────────┬────────────┬───────────┬───────────┐\n",
       "│ regio      ┆ regio_key ┆ jaar ┆ bevolking_ ┆ … ┆ burgerlijk ┆ previous_m ┆ percentag ┆ absolute_ │\n",
       "│ ---        ┆ ---       ┆ ---  ┆ 1_januari  ┆   ┆ estaat     ┆ oment      ┆ e_growth  ┆ growth    │\n",
       "│ str        ┆ str       ┆ i64  ┆ ---        ┆   ┆ ---        ┆ ---        ┆ ---       ┆ ---       │\n",
       "│            ┆           ┆      ┆ i64        ┆   ┆ str        ┆ i64        ┆ f64       ┆ i64       │\n",
       "╞════════════╪═══════════╪══════╪════════════╪═══╪════════════╪════════════╪═══════════╪═══════════╡\n",
       "│ Edam-Volen ┆ GM0385    ┆ 2017 ┆ 35800      ┆ … ┆ Totaal bur ┆ 29087      ┆ 23.079039 ┆ 6713      │\n",
       "│ dam        ┆           ┆      ┆            ┆   ┆ gerlijke   ┆            ┆           ┆           │\n",
       "│            ┆           ┆      ┆            ┆   ┆ staat      ┆            ┆           ┆           │\n",
       "│ Blaricum   ┆ GM0376    ┆ 2017 ┆ 10201      ┆ … ┆ Totaal bur ┆ 9312       ┆ 9.546821  ┆ 889       │\n",
       "│            ┆           ┆      ┆            ┆   ┆ gerlijke   ┆            ┆           ┆           │\n",
       "│            ┆           ┆      ┆            ┆   ┆ staat      ┆            ┆           ┆           │\n",
       "│ Noordenvel ┆ GM1699    ┆ 2017 ┆ 32981      ┆ … ┆ Totaal bur ┆ 31137      ┆ 5.922215  ┆ 1844      │\n",
       "│ d          ┆           ┆      ┆            ┆   ┆ gerlijke   ┆            ┆           ┆           │\n",
       "│            ┆           ┆      ┆            ┆   ┆ staat      ┆            ┆           ┆           │\n",
       "│ Rijswijk   ┆ GM0603    ┆ 2017 ┆ 51027      ┆ … ┆ Totaal bur ┆ 48216      ┆ 5.830015  ┆ 2811      │\n",
       "│ (ZH.)      ┆           ┆      ┆            ┆   ┆ gerlijke   ┆            ┆           ┆           │\n",
       "│            ┆           ┆      ┆            ┆   ┆ staat      ┆            ┆           ┆           │\n",
       "│ Oostzaan   ┆ GM0431    ┆ 2017 ┆ 9652       ┆ … ┆ Totaal bur ┆ 9187       ┆ 5.0615    ┆ 465       │\n",
       "│            ┆           ┆      ┆            ┆   ┆ gerlijke   ┆            ┆           ┆           │\n",
       "│            ┆           ┆      ┆            ┆   ┆ staat      ┆            ┆           ┆           │\n",
       "└────────────┴───────────┴──────┴────────────┴───┴────────────┴────────────┴───────────┴───────────┘"
      ]
     },
     "execution_count": 8,
     "metadata": {},
     "output_type": "execute_result"
    }
   ],
   "source": [
    "top_5_relative_growth"
   ]
  },
  {
   "cell_type": "code",
   "execution_count": 9,
   "metadata": {},
   "outputs": [
    {
     "data": {
      "text/html": [
       "<div><style>\n",
       ".dataframe > thead > tr > th,\n",
       ".dataframe > tbody > tr > td {\n",
       "  text-align: right;\n",
       "  white-space: pre-wrap;\n",
       "}\n",
       "</style>\n",
       "<small>shape: (5, 10)</small><table border=\"1\" class=\"dataframe\"><thead><tr><th>regio</th><th>regio_key</th><th>jaar</th><th>bevolking_1_januari</th><th>geslacht</th><th>catgroup</th><th>burgerlijkestaat</th><th>previous_moment</th><th>percentage_growth</th><th>absolute_growth</th></tr><tr><td>str</td><td>str</td><td>i64</td><td>i64</td><td>str</td><td>str</td><td>str</td><td>i64</td><td>f64</td><td>i64</td></tr></thead><tbody><tr><td>&quot;Amsterdam&quot;</td><td>&quot;GM0363&quot;</td><td>2017</td><td>844947</td><td>&quot;Totaal mannen …</td><td>&quot;Totaal&quot;</td><td>&quot;Totaal burgerl…</td><td>821752</td><td>2.822628</td><td>23195</td></tr><tr><td>&quot;Rotterdam&quot;</td><td>&quot;GM0599&quot;</td><td>2017</td><td>634660</td><td>&quot;Totaal mannen …</td><td>&quot;Totaal&quot;</td><td>&quot;Totaal burgerl…</td><td>623652</td><td>1.765087</td><td>11008</td></tr><tr><td>&quot;&#x27;s-Gravenhage …</td><td>&quot;GM0518&quot;</td><td>2017</td><td>524882</td><td>&quot;Totaal mannen …</td><td>&quot;Totaal&quot;</td><td>&quot;Totaal burgerl…</td><td>514861</td><td>1.946351</td><td>10021</td></tr><tr><td>&quot;Utrecht (gemee…</td><td>&quot;GM0344&quot;</td><td>2017</td><td>343038</td><td>&quot;Totaal mannen …</td><td>&quot;Totaal&quot;</td><td>&quot;Totaal burgerl…</td><td>334176</td><td>2.651896</td><td>8862</td></tr><tr><td>&quot;Edam-Volendam&quot;</td><td>&quot;GM0385&quot;</td><td>2017</td><td>35800</td><td>&quot;Totaal mannen …</td><td>&quot;Totaal&quot;</td><td>&quot;Totaal burgerl…</td><td>29087</td><td>23.079039</td><td>6713</td></tr></tbody></table></div>"
      ],
      "text/plain": [
       "shape: (5, 10)\n",
       "┌────────────┬───────────┬──────┬────────────┬───┬────────────┬────────────┬───────────┬───────────┐\n",
       "│ regio      ┆ regio_key ┆ jaar ┆ bevolking_ ┆ … ┆ burgerlijk ┆ previous_m ┆ percentag ┆ absolute_ │\n",
       "│ ---        ┆ ---       ┆ ---  ┆ 1_januari  ┆   ┆ estaat     ┆ oment      ┆ e_growth  ┆ growth    │\n",
       "│ str        ┆ str       ┆ i64  ┆ ---        ┆   ┆ ---        ┆ ---        ┆ ---       ┆ ---       │\n",
       "│            ┆           ┆      ┆ i64        ┆   ┆ str        ┆ i64        ┆ f64       ┆ i64       │\n",
       "╞════════════╪═══════════╪══════╪════════════╪═══╪════════════╪════════════╪═══════════╪═══════════╡\n",
       "│ Amsterdam  ┆ GM0363    ┆ 2017 ┆ 844947     ┆ … ┆ Totaal bur ┆ 821752     ┆ 2.822628  ┆ 23195     │\n",
       "│            ┆           ┆      ┆            ┆   ┆ gerlijke   ┆            ┆           ┆           │\n",
       "│            ┆           ┆      ┆            ┆   ┆ staat      ┆            ┆           ┆           │\n",
       "│ Rotterdam  ┆ GM0599    ┆ 2017 ┆ 634660     ┆ … ┆ Totaal bur ┆ 623652     ┆ 1.765087  ┆ 11008     │\n",
       "│            ┆           ┆      ┆            ┆   ┆ gerlijke   ┆            ┆           ┆           │\n",
       "│            ┆           ┆      ┆            ┆   ┆ staat      ┆            ┆           ┆           │\n",
       "│ 's-Gravenh ┆ GM0518    ┆ 2017 ┆ 524882     ┆ … ┆ Totaal bur ┆ 514861     ┆ 1.946351  ┆ 10021     │\n",
       "│ age        ┆           ┆      ┆            ┆   ┆ gerlijke   ┆            ┆           ┆           │\n",
       "│ (gemeente) ┆           ┆      ┆            ┆   ┆ staat      ┆            ┆           ┆           │\n",
       "│ Utrecht    ┆ GM0344    ┆ 2017 ┆ 343038     ┆ … ┆ Totaal bur ┆ 334176     ┆ 2.651896  ┆ 8862      │\n",
       "│ (gemeente) ┆           ┆      ┆            ┆   ┆ gerlijke   ┆            ┆           ┆           │\n",
       "│            ┆           ┆      ┆            ┆   ┆ staat      ┆            ┆           ┆           │\n",
       "│ Edam-Volen ┆ GM0385    ┆ 2017 ┆ 35800      ┆ … ┆ Totaal bur ┆ 29087      ┆ 23.079039 ┆ 6713      │\n",
       "│ dam        ┆           ┆      ┆            ┆   ┆ gerlijke   ┆            ┆           ┆           │\n",
       "│            ┆           ┆      ┆            ┆   ┆ staat      ┆            ┆           ┆           │\n",
       "└────────────┴───────────┴──────┴────────────┴───┴────────────┴────────────┴───────────┴───────────┘"
      ]
     },
     "execution_count": 9,
     "metadata": {},
     "output_type": "execute_result"
    }
   ],
   "source": [
    "top_5_absolute_growth"
   ]
  },
  {
   "cell_type": "markdown",
   "metadata": {},
   "source": [
    "## Find out if this growth can be explained by bodemgebruik\n",
    "Get the bodemgebruik data for the top 5 gemeentes from the database, and merge with the dataframes."
   ]
  },
  {
   "cell_type": "code",
   "execution_count": 10,
   "metadata": {},
   "outputs": [],
   "source": [
    "top_regio = top_5_absolute_growth['regio'].to_list()\n",
    "top_regio.extend(top_5_relative_growth['regio'].to_list())"
   ]
  },
  {
   "cell_type": "code",
   "execution_count": 11,
   "metadata": {},
   "outputs": [
    {
     "name": "stdout",
     "output_type": "stream",
     "text": [
      "SELECT regios.regio, regios.regio_key, perioden.jaar, bodemgebruik.id, bodemgebruik.regio_key AS regio_key_1, bodemgebruik.datum_key, bodemgebruik.totale_oppervlakte, bodemgebruik.totaal_verkeersterrein, bodemgebruik.spoorterrein, bodemgebruik.wegverkeersterrein, bodemgebruik.vliegveld, bodemgebruik.totaal_bebouwd_terrein, bodemgebruik.woonterrein, bodemgebruik.terrein_voor_detailhandel_en_horeca, bodemgebruik.terrein_voor_openbare_voorzieningen, bodemgebruik.terrein_voor_sociaal_culturele_voorz, bodemgebruik.bedrijventerrein, bodemgebruik.totaal_semi_bebouwd_terrein, bodemgebruik.stortplaats, bodemgebruik.wrakkenopslagplaats, bodemgebruik.begraafplaats, bodemgebruik.delfstofwinplaats, bodemgebruik.bouwterrein, bodemgebruik.semi_verhard_overig_terrein, bodemgebruik.totaal_recreatieterrein, bodemgebruik.park_en_plantsoen, bodemgebruik.sportterrein, bodemgebruik.volkstuin, bodemgebruik.dagrecreatief_terrein, bodemgebruik.verblijfsrecreatief_terrein, bodemgebruik.totaal_agrarisch_terrein, bodemgebruik.terrein_voor_glastuinbouw, bodemgebruik.overig_agrarisch_terrein, bodemgebruik.totaal_bos_en_open_natuurlijk_terrein, bodemgebruik.bos, bodemgebruik.open_droog_natuurlijk_terrein, bodemgebruik.open_nat_natuurlijk_terrein, bodemgebruik.totaal_binnenwater, bodemgebruik.ijsselmeer_markermeer, bodemgebruik.afgesloten_zeearm, bodemgebruik.rijn_en_maas, bodemgebruik.randmeer, bodemgebruik.spaarbekken, bodemgebruik.recreatief_binnenwater, bodemgebruik.binnenwater_voor_delfstofwinning, bodemgebruik.vloei_en_of_slibveld, bodemgebruik.overig_binnenwater, bodemgebruik.totaal_buitenwater, bodemgebruik.waddenzee_eems_dollard, bodemgebruik.oosterschelde, bodemgebruik.westerschelde, bodemgebruik.noordzee \n",
      "FROM bodemgebruik JOIN perioden ON bodemgebruik.datum_key = perioden.datum_key JOIN regios ON bodemgebruik.regio_key = regios.regio_key \n",
      "WHERE regios.regio IN ('Amsterdam', 'Rotterdam', '''s-Gravenhage (gemeente)', 'Utrecht (gemeente)', 'Edam-Volendam', 'Edam-Volendam', 'Blaricum', 'Noordenveld', 'Rijswijk (ZH.)', 'Oostzaan')\n"
     ]
    }
   ],
   "source": [
    "stmt = (\n",
    "    select(models.Regios.regio, models.Regios.regio_key, models.Perioden.jaar, models.Bodemgebruik)\n",
    "    .join(models.Perioden, models.Bodemgebruik.datum_key == models.Perioden.datum_key)\n",
    "    .join(models.Regios, models.Bodemgebruik.regio_key == models.Regios.regio_key)\n",
    "    .filter(models.Regios.regio.in_(top_regio))\n",
    ")\n",
    "bodemgebruik = fetch_data(stmt=stmt, db_engine=db_engine, package=DFType.POLARS)"
   ]
  },
  {
   "cell_type": "code",
   "execution_count": 12,
   "metadata": {},
   "outputs": [
    {
     "data": {
      "text/html": [
       "<div><style>\n",
       ".dataframe > thead > tr > th,\n",
       ".dataframe > tbody > tr > td {\n",
       "  text-align: right;\n",
       "  white-space: pre-wrap;\n",
       "}\n",
       "</style>\n",
       "<small>shape: (9, 52)</small><table border=\"1\" class=\"dataframe\"><thead><tr><th>regio</th><th>regio_key</th><th>jaar</th><th>id</th><th>regio_key_1</th><th>datum_key</th><th>totale_oppervlakte</th><th>totaal_verkeersterrein</th><th>spoorterrein</th><th>wegverkeersterrein</th><th>vliegveld</th><th>totaal_bebouwd_terrein</th><th>woonterrein</th><th>terrein_voor_detailhandel_en_horeca</th><th>terrein_voor_openbare_voorzieningen</th><th>terrein_voor_sociaal_culturele_voorz</th><th>bedrijventerrein</th><th>totaal_semi_bebouwd_terrein</th><th>stortplaats</th><th>wrakkenopslagplaats</th><th>begraafplaats</th><th>delfstofwinplaats</th><th>bouwterrein</th><th>semi_verhard_overig_terrein</th><th>totaal_recreatieterrein</th><th>park_en_plantsoen</th><th>sportterrein</th><th>volkstuin</th><th>dagrecreatief_terrein</th><th>verblijfsrecreatief_terrein</th><th>totaal_agrarisch_terrein</th><th>terrein_voor_glastuinbouw</th><th>overig_agrarisch_terrein</th><th>totaal_bos_en_open_natuurlijk_terrein</th><th>bos</th><th>open_droog_natuurlijk_terrein</th><th>open_nat_natuurlijk_terrein</th><th>totaal_binnenwater</th><th>ijsselmeer_markermeer</th><th>afgesloten_zeearm</th><th>rijn_en_maas</th><th>randmeer</th><th>spaarbekken</th><th>recreatief_binnenwater</th><th>binnenwater_voor_delfstofwinning</th><th>vloei_en_of_slibveld</th><th>overig_binnenwater</th><th>totaal_buitenwater</th><th>waddenzee_eems_dollard</th><th>oosterschelde</th><th>westerschelde</th><th>noordzee</th></tr><tr><td>str</td><td>str</td><td>i64</td><td>i64</td><td>str</td><td>str</td><td>i64</td><td>i64</td><td>i64</td><td>i64</td><td>i64</td><td>i64</td><td>i64</td><td>i64</td><td>i64</td><td>i64</td><td>i64</td><td>i64</td><td>i64</td><td>i64</td><td>i64</td><td>i64</td><td>i64</td><td>i64</td><td>i64</td><td>i64</td><td>i64</td><td>i64</td><td>i64</td><td>i64</td><td>i64</td><td>i64</td><td>i64</td><td>i64</td><td>i64</td><td>i64</td><td>i64</td><td>i64</td><td>i64</td><td>bool</td><td>i64</td><td>i64</td><td>i64</td><td>i64</td><td>i64</td><td>i64</td><td>i64</td><td>i64</td><td>bool</td><td>bool</td><td>bool</td><td>i64</td></tr></thead><tbody><tr><td>&quot;Blaricum&quot;</td><td>&quot;GM0376&quot;</td><td>2017</td><td>1628</td><td>&quot;GM0376&quot;</td><td>&quot;2017JJ00&quot;</td><td>1556</td><td>56</td><td>0</td><td>56</td><td>0</td><td>352</td><td>329</td><td>7</td><td>5</td><td>9</td><td>2</td><td>46</td><td>0</td><td>0</td><td>2</td><td>0</td><td>44</td><td>0</td><td>58</td><td>30</td><td>15</td><td>0</td><td>11</td><td>2</td><td>332</td><td>0</td><td>332</td><td>264</td><td>146</td><td>94</td><td>23</td><td>449</td><td>null</td><td>null</td><td>null</td><td>444</td><td>0</td><td>0</td><td>0</td><td>0</td><td>5</td><td>null</td><td>null</td><td>null</td><td>null</td><td>null</td></tr><tr><td>&quot;Amsterdam&quot;</td><td>&quot;GM0363&quot;</td><td>2017</td><td>1160</td><td>&quot;GM0363&quot;</td><td>&quot;2017JJ00&quot;</td><td>21949</td><td>1424</td><td>325</td><td>1099</td><td>0</td><td>8244</td><td>4627</td><td>510</td><td>159</td><td>424</td><td>2524</td><td>937</td><td>0</td><td>13</td><td>109</td><td>0</td><td>773</td><td>42</td><td>2701</td><td>1520</td><td>696</td><td>323</td><td>145</td><td>18</td><td>2737</td><td>28</td><td>2709</td><td>496</td><td>241</td><td>16</td><td>239</td><td>5409</td><td>2288</td><td>null</td><td>null</td><td>null</td><td>0</td><td>371</td><td>0</td><td>1</td><td>2748</td><td>null</td><td>null</td><td>null</td><td>null</td><td>null</td></tr><tr><td>&quot;Edam-Volendam&quot;</td><td>&quot;GM0385&quot;</td><td>2017</td><td>2366</td><td>&quot;GM0385&quot;</td><td>&quot;2017JJ00&quot;</td><td>8000</td><td>202</td><td>25</td><td>177</td><td>0</td><td>576</td><td>467</td><td>16</td><td>5</td><td>3</td><td>85</td><td>59</td><td>4</td><td>0</td><td>4</td><td>0</td><td>36</td><td>16</td><td>153</td><td>58</td><td>48</td><td>10</td><td>12</td><td>24</td><td>4391</td><td>0</td><td>4391</td><td>51</td><td>0</td><td>0</td><td>51</td><td>2567</td><td>2266</td><td>null</td><td>null</td><td>null</td><td>0</td><td>15</td><td>0</td><td>0</td><td>287</td><td>null</td><td>null</td><td>null</td><td>null</td><td>null</td></tr><tr><td>&quot;&#x27;s-Gravenhage …</td><td>&quot;GM0518&quot;</td><td>2017</td><td>2870</td><td>&quot;GM0518&quot;</td><td>&quot;2017JJ00&quot;</td><td>9813</td><td>621</td><td>84</td><td>538</td><td>0</td><td>4843</td><td>3517</td><td>294</td><td>171</td><td>256</td><td>604</td><td>190</td><td>0</td><td>0</td><td>58</td><td>0</td><td>122</td><td>11</td><td>1326</td><td>662</td><td>430</td><td>101</td><td>88</td><td>45</td><td>177</td><td>9</td><td>168</td><td>1089</td><td>424</td><td>665</td><td>0</td><td>316</td><td>null</td><td>null</td><td>null</td><td>null</td><td>0</td><td>81</td><td>0</td><td>0</td><td>234</td><td>1252</td><td>null</td><td>null</td><td>null</td><td>1252</td></tr><tr><td>&quot;Noordenveld&quot;</td><td>&quot;GM1699&quot;</td><td>2017</td><td>4742</td><td>&quot;GM1699&quot;</td><td>&quot;2017JJ00&quot;</td><td>20529</td><td>336</td><td>0</td><td>336</td><td>0</td><td>1014</td><td>720</td><td>28</td><td>103</td><td>32</td><td>131</td><td>103</td><td>0</td><td>3</td><td>14</td><td>59</td><td>27</td><td>0</td><td>400</td><td>31</td><td>130</td><td>5</td><td>23</td><td>211</td><td>13000</td><td>0</td><td>13000</td><td>5049</td><td>2591</td><td>245</td><td>2213</td><td>628</td><td>null</td><td>null</td><td>null</td><td>null</td><td>0</td><td>12</td><td>35</td><td>0</td><td>581</td><td>null</td><td>null</td><td>null</td><td>null</td><td>null</td></tr><tr><td>&quot;Oostzaan&quot;</td><td>&quot;GM0431&quot;</td><td>2017</td><td>5003</td><td>&quot;GM0431&quot;</td><td>&quot;2017JJ00&quot;</td><td>1608</td><td>60</td><td>12</td><td>48</td><td>0</td><td>188</td><td>146</td><td>4</td><td>9</td><td>0</td><td>28</td><td>5</td><td>0</td><td>0</td><td>1</td><td>0</td><td>3</td><td>0</td><td>177</td><td>6</td><td>11</td><td>0</td><td>160</td><td>0</td><td>512</td><td>0</td><td>512</td><td>214</td><td>60</td><td>0</td><td>154</td><td>452</td><td>null</td><td>null</td><td>null</td><td>null</td><td>0</td><td>116</td><td>0</td><td>0</td><td>336</td><td>null</td><td>null</td><td>null</td><td>null</td><td>null</td></tr><tr><td>&quot;Rotterdam&quot;</td><td>&quot;GM0599&quot;</td><td>2017</td><td>5489</td><td>&quot;GM0599&quot;</td><td>&quot;2017JJ00&quot;</td><td>32416</td><td>2184</td><td>571</td><td>1559</td><td>54</td><td>12081</td><td>4689</td><td>406</td><td>299</td><td>353</td><td>6334</td><td>1959</td><td>74</td><td>19</td><td>107</td><td>10</td><td>1488</td><td>260</td><td>2536</td><td>1584</td><td>492</td><td>249</td><td>169</td><td>41</td><td>2320</td><td>150</td><td>2169</td><td>765</td><td>157</td><td>497</td><td>111</td><td>7561</td><td>null</td><td>null</td><td>1908</td><td>null</td><td>4</td><td>226</td><td>0</td><td>157</td><td>5266</td><td>3011</td><td>null</td><td>null</td><td>null</td><td>3011</td></tr><tr><td>&quot;Rijswijk (ZH.)…</td><td>&quot;GM0603&quot;</td><td>2017</td><td>5399</td><td>&quot;GM0603&quot;</td><td>&quot;2017JJ00&quot;</td><td>1449</td><td>112</td><td>9</td><td>103</td><td>0</td><td>710</td><td>450</td><td>34</td><td>28</td><td>39</td><td>159</td><td>68</td><td>0</td><td>0</td><td>14</td><td>0</td><td>54</td><td>0</td><td>422</td><td>253</td><td>120</td><td>32</td><td>17</td><td>0</td><td>81</td><td>8</td><td>73</td><td>4</td><td>4</td><td>0</td><td>0</td><td>53</td><td>null</td><td>null</td><td>null</td><td>null</td><td>0</td><td>29</td><td>0</td><td>0</td><td>24</td><td>null</td><td>null</td><td>null</td><td>null</td><td>null</td></tr><tr><td>&quot;Utrecht (gemee…</td><td>&quot;GM0344&quot;</td><td>2017</td><td>6209</td><td>&quot;GM0344&quot;</td><td>&quot;2017JJ00&quot;</td><td>9921</td><td>951</td><td>156</td><td>796</td><td>0</td><td>4247</td><td>2592</td><td>218</td><td>140</td><td>331</td><td>966</td><td>296</td><td>0</td><td>0</td><td>50</td><td>0</td><td>246</td><td>0</td><td>1277</td><td>681</td><td>400</td><td>71</td><td>120</td><td>4</td><td>2417</td><td>8</td><td>2409</td><td>189</td><td>169</td><td>16</td><td>4</td><td>544</td><td>null</td><td>null</td><td>null</td><td>null</td><td>0</td><td>180</td><td>0</td><td>0</td><td>364</td><td>null</td><td>null</td><td>null</td><td>null</td><td>null</td></tr></tbody></table></div>"
      ],
      "text/plain": [
       "shape: (9, 52)\n",
       "┌──────────────┬───────────┬──────┬──────┬───┬──────────────┬─────────────┬─────────────┬──────────┐\n",
       "│ regio        ┆ regio_key ┆ jaar ┆ id   ┆ … ┆ waddenzee_ee ┆ oosterschel ┆ westerschel ┆ noordzee │\n",
       "│ ---          ┆ ---       ┆ ---  ┆ ---  ┆   ┆ ms_dollard   ┆ de          ┆ de          ┆ ---      │\n",
       "│ str          ┆ str       ┆ i64  ┆ i64  ┆   ┆ ---          ┆ ---         ┆ ---         ┆ i64      │\n",
       "│              ┆           ┆      ┆      ┆   ┆ bool         ┆ bool        ┆ bool        ┆          │\n",
       "╞══════════════╪═══════════╪══════╪══════╪═══╪══════════════╪═════════════╪═════════════╪══════════╡\n",
       "│ Blaricum     ┆ GM0376    ┆ 2017 ┆ 1628 ┆ … ┆ null         ┆ null        ┆ null        ┆ null     │\n",
       "│ Amsterdam    ┆ GM0363    ┆ 2017 ┆ 1160 ┆ … ┆ null         ┆ null        ┆ null        ┆ null     │\n",
       "│ Edam-Volenda ┆ GM0385    ┆ 2017 ┆ 2366 ┆ … ┆ null         ┆ null        ┆ null        ┆ null     │\n",
       "│ m            ┆           ┆      ┆      ┆   ┆              ┆             ┆             ┆          │\n",
       "│ 's-Gravenhag ┆ GM0518    ┆ 2017 ┆ 2870 ┆ … ┆ null         ┆ null        ┆ null        ┆ 1252     │\n",
       "│ e (gemeente) ┆           ┆      ┆      ┆   ┆              ┆             ┆             ┆          │\n",
       "│ Noordenveld  ┆ GM1699    ┆ 2017 ┆ 4742 ┆ … ┆ null         ┆ null        ┆ null        ┆ null     │\n",
       "│ Oostzaan     ┆ GM0431    ┆ 2017 ┆ 5003 ┆ … ┆ null         ┆ null        ┆ null        ┆ null     │\n",
       "│ Rotterdam    ┆ GM0599    ┆ 2017 ┆ 5489 ┆ … ┆ null         ┆ null        ┆ null        ┆ 3011     │\n",
       "│ Rijswijk     ┆ GM0603    ┆ 2017 ┆ 5399 ┆ … ┆ null         ┆ null        ┆ null        ┆ null     │\n",
       "│ (ZH.)        ┆           ┆      ┆      ┆   ┆              ┆             ┆             ┆          │\n",
       "│ Utrecht      ┆ GM0344    ┆ 2017 ┆ 6209 ┆ … ┆ null         ┆ null        ┆ null        ┆ null     │\n",
       "│ (gemeente)   ┆           ┆      ┆      ┆   ┆              ┆             ┆             ┆          │\n",
       "└──────────────┴───────────┴──────┴──────┴───┴──────────────┴─────────────┴─────────────┴──────────┘"
      ]
     },
     "execution_count": 12,
     "metadata": {},
     "output_type": "execute_result"
    }
   ],
   "source": [
    "bodemgebruik_df = bodemgebruik.clone()\n",
    "bodemgebruik_df.filter(pl.col('jaar') == pl.col('jaar').max())"
   ]
  },
  {
   "cell_type": "code",
   "execution_count": 32,
   "metadata": {},
   "outputs": [
    {
     "data": {
      "text/plain": [
       "['GM0385', 'GM0431']"
      ]
     },
     "execution_count": 32,
     "metadata": {},
     "output_type": "execute_result"
    }
   ],
   "source": [
    "ls = bodemgebruik_df['regio'].unique().to_list()\n",
    "bodemgebruik_df.filter(bodemgebruik_df['regio'].is_in(ls[:2]))['regio_key'].unique().to_list()"
   ]
  },
  {
   "cell_type": "code",
   "execution_count": 33,
   "metadata": {},
   "outputs": [
    {
     "ename": "AttributeError",
     "evalue": "module 'backend.models' has no attribute 'BevolkingDescribed'",
     "output_type": "error",
     "traceback": [
      "\u001b[1;31m---------------------------------------------------------------------------\u001b[0m",
      "\u001b[1;31mAttributeError\u001b[0m                            Traceback (most recent call last)",
      "\u001b[1;32mc:\\Repos\\DME\\testnotebook.ipynb Cell 20\u001b[0m line \u001b[0;36m2\n\u001b[0;32m      <a href='vscode-notebook-cell:/c%3A/Repos/DME/testnotebook.ipynb#X31sZmlsZQ%3D%3D?line=0'>1</a>\u001b[0m stmt \u001b[39m=\u001b[39m (\n\u001b[1;32m----> <a href='vscode-notebook-cell:/c%3A/Repos/DME/testnotebook.ipynb#X31sZmlsZQ%3D%3D?line=1'>2</a>\u001b[0m     select(models\u001b[39m.\u001b[39;49mBevolkingDescribed)\n\u001b[0;32m      <a href='vscode-notebook-cell:/c%3A/Repos/DME/testnotebook.ipynb#X31sZmlsZQ%3D%3D?line=2'>3</a>\u001b[0m )\n\u001b[0;32m      <a href='vscode-notebook-cell:/c%3A/Repos/DME/testnotebook.ipynb#X31sZmlsZQ%3D%3D?line=3'>4</a>\u001b[0m df \u001b[39m=\u001b[39m fetch_data(stmt\u001b[39m=\u001b[39mstmt, db_engine\u001b[39m=\u001b[39mdb_engine, package\u001b[39m=\u001b[39mDFType\u001b[39m.\u001b[39mPOLARS)\n",
      "\u001b[1;31mAttributeError\u001b[0m: module 'backend.models' has no attribute 'BevolkingDescribed'"
     ]
    }
   ],
   "source": [
    "stmt = (\n",
    "    select(models.BevolkingDescribed)\n",
    ")\n",
    "df = fetch_data(stmt=stmt, db_engine=db_engine, package=DFType.POLARS)"
   ]
  },
  {
   "cell_type": "code",
   "execution_count": null,
   "metadata": {},
   "outputs": [],
   "source": []
  }
 ],
 "metadata": {
  "kernelspec": {
   "display_name": ".venv",
   "language": "python",
   "name": "python3"
  },
  "language_info": {
   "codemirror_mode": {
    "name": "ipython",
    "version": 3
   },
   "file_extension": ".py",
   "mimetype": "text/x-python",
   "name": "python",
   "nbconvert_exporter": "python",
   "pygments_lexer": "ipython3",
   "version": "3.11.2"
  },
  "orig_nbformat": 4
 },
 "nbformat": 4,
 "nbformat_minor": 2
}
